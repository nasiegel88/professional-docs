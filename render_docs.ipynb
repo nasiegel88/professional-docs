{
 "cells": [
  {
   "cell_type": "markdown",
   "metadata": {},
   "source": [
    "# Render Documents"
   ]
  },
  {
   "cell_type": "code",
   "execution_count": 50,
   "metadata": {},
   "outputs": [
    {
     "name": "stdout",
     "output_type": "stream",
     "text": [
      "cd _resume;Rscript -e \"tinytex::pdflatex(commandArgs(trailingOnly = TRUE)[1])\" my_resume.tex\n"
     ]
    },
    {
     "name": "stderr",
     "output_type": "stream",
     "text": [
      "Loading required package: usethis\n",
      "Registering fonts with R\n",
      "Scanning ttf files in /home/runner/micromamba/envs/environment/fonts ...\n",
      "Extracting .afm files from .ttf files...\n",
      "Scanning ttf files in /home/nsiegel/fonts ...\n",
      "Extracting .afm files from .ttf files...\n",
      "/home/nsiegel/fonts/Arial.ttf : ArialMT already registered in fonts database. Skipping.\n",
      "Found FontName for 0 fonts.\n",
      "Scanning afm files in /srv/conda/envs/notebook/lib/R/library/extrafontdb/metrics\n",
      "Scanning ttf files in /home/nsiegel/fonts ...\n",
      "Extracting .afm files from .ttf files...\n",
      "/home/nsiegel/fonts/Arial.ttf : ArialMT already registered in fonts database. Skipping.\n",
      "Found FontName for 0 fonts.\n",
      "Scanning afm files in /srv/conda/envs/notebook/lib/R/library/extrafontdb/metrics\n",
      "Scanning ttf files in /home/nsiegel/fonts ...\n",
      "Extracting .afm files from .ttf files...\n",
      "/home/nsiegel/fonts/Arial.ttf : ArialMT already registered in fonts database. Skipping.\n",
      "Found FontName for 0 fonts.\n",
      "Scanning afm files in /srv/conda/envs/notebook/lib/R/library/extrafontdb/metrics\n"
     ]
    },
    {
     "name": "stdout",
     "output_type": "stream",
     "text": [
      "[1] \"my_resume.pdf\"\n"
     ]
    }
   ],
   "source": [
    "%%bash\n",
    "\n",
    "make _resume/my_resume.pdf"
   ]
  },
  {
   "cell_type": "code",
   "execution_count": 28,
   "metadata": {},
   "outputs": [
    {
     "name": "stdout",
     "output_type": "stream",
     "text": [
      "cd _biosketch;Rscript -e \"tinytex::xelatex(commandArgs(trailingOnly = TRUE)[1])\" my_nih-biosketch.tex\n"
     ]
    },
    {
     "name": "stderr",
     "output_type": "stream",
     "text": [
      "Loading required package: usethis\n",
      "Registering fonts with R\n",
      "Scanning ttf files in /home/runner/micromamba/envs/environment/fonts ...\n",
      "Extracting .afm files from .ttf files...\n",
      "Scanning ttf files in /home/nsiegel/fonts ...\n",
      "Extracting .afm files from .ttf files...\n",
      "/home/nsiegel/fonts/Arial.ttf : ArialMT already registered in fonts database. Skipping.\n",
      "Found FontName for 0 fonts.\n",
      "Scanning afm files in /srv/conda/envs/notebook/lib/R/library/extrafontdb/metrics\n",
      "Scanning ttf files in /home/nsiegel/fonts ...\n",
      "Extracting .afm files from .ttf files...\n",
      "/home/nsiegel/fonts/Arial.ttf : ArialMT already registered in fonts database. Skipping.\n",
      "Found FontName for 0 fonts.\n",
      "Scanning afm files in /srv/conda/envs/notebook/lib/R/library/extrafontdb/metrics\n",
      "Scanning ttf files in /home/nsiegel/fonts ...\n",
      "Extracting .afm files from .ttf files...\n",
      "/home/nsiegel/fonts/Arial.ttf : ArialMT already registered in fonts database. Skipping.\n",
      "Found FontName for 0 fonts.\n",
      "Scanning afm files in /srv/conda/envs/notebook/lib/R/library/extrafontdb/metrics\n"
     ]
    },
    {
     "name": "stdout",
     "output_type": "stream",
     "text": [
      "tlmgr: package repository https://ctan.math.utah.edu/ctan/tex-archive/systems/texlive/tlnet (verified)\n",
      "[1/1, ??:??/??:??] install: microtype [57k]\n",
      "running mktexlsr ...\n",
      "done running mktexlsr.\n",
      "tlmgr: package log updated: /home/nsiegel/.TinyTeX/texmf-var/web2c/tlmgr.log\n",
      "tlmgr: command log updated: /home/nsiegel/.TinyTeX/texmf-var/web2c/tlmgr-commands.log\n",
      "tlmgr: package repository https://ctan.math.illinois.edu/systems/texlive/tlnet (verified)\n",
      "[1/2, ??:??/??:??] install: tabu [24k]\n",
      "[2/2, 00:00/00:00] install: varwidth [5k]\n",
      "running mktexlsr ...\n",
      "done running mktexlsr.\n",
      "tlmgr: package log updated: /home/nsiegel/.TinyTeX/texmf-var/web2c/tlmgr.log\n",
      "tlmgr: command log updated: /home/nsiegel/.TinyTeX/texmf-var/web2c/tlmgr-commands.log\n",
      "tlmgr: package repository https://ctan.math.utah.edu/ctan/tex-archive/systems/texlive/tlnet (verified)\n",
      "[1/1, ??:??/??:??] install: ulem [7k]\n",
      "running mktexlsr ...\n",
      "done running mktexlsr.\n",
      "tlmgr: package log updated: /home/nsiegel/.TinyTeX/texmf-var/web2c/tlmgr.log\n",
      "tlmgr: command log updated: /home/nsiegel/.TinyTeX/texmf-var/web2c/tlmgr-commands.log\n",
      "tlmgr: package repository https://us.mirrors.cicku.me/ctan/systems/texlive/tlnet (verified)\n",
      "[1/1, ??:??/??:??] install: enumitem [14k]\n",
      "running mktexlsr ...\n",
      "done running mktexlsr.\n",
      "tlmgr: package log updated: /home/nsiegel/.TinyTeX/texmf-var/web2c/tlmgr.log\n",
      "tlmgr: command log updated: /home/nsiegel/.TinyTeX/texmf-var/web2c/tlmgr-commands.log\n",
      "tlmgr: package repository https://mirror.las.iastate.edu/tex-archive/systems/texlive/tlnet (verified)\n",
      "[1/1, ??:??/??:??] install: titlesec [20k]\n",
      "running mktexlsr ...\n",
      "done running mktexlsr.\n",
      "tlmgr: package log updated: /home/nsiegel/.TinyTeX/texmf-var/web2c/tlmgr.log\n",
      "tlmgr: command log updated: /home/nsiegel/.TinyTeX/texmf-var/web2c/tlmgr-commands.log\n",
      "[1] \"my_nih-biosketch.pdf\"\n"
     ]
    }
   ],
   "source": [
    "%%bash\n",
    "\n",
    "make _biosketch/my_nih-biosketch.pdf"
   ]
  }
 ],
 "metadata": {
  "kernelspec": {
   "display_name": "Python 3 (ipykernel)",
   "language": "python",
   "name": "python3"
  },
  "language_info": {
   "codemirror_mode": {
    "name": "ipython",
    "version": 3
   },
   "file_extension": ".py",
   "mimetype": "text/x-python",
   "name": "python",
   "nbconvert_exporter": "python",
   "pygments_lexer": "ipython3",
   "version": "3.10.14"
  }
 },
 "nbformat": 4,
 "nbformat_minor": 2
}
